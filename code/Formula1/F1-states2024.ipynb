{
 "cells": [
  {
   "cell_type": "markdown",
   "id": "6a609ee8",
   "metadata": {},
   "source": [
    "## F1 state representation quality using multiple states  "
   ]
  },
  {
   "cell_type": "code",
   "execution_count": 1,
   "id": "7c99b58c",
   "metadata": {},
   "outputs": [
    {
     "name": "stderr",
     "output_type": "stream",
     "text": [
      "/opt/conda/lib/python3.10/site-packages/tqdm/auto.py:22: TqdmWarning: IProgress not found. Please update jupyter and ipywidgets. See https://ipywidgets.readthedocs.io/en/stable/user_install.html\n",
      "  from .autonotebook import tqdm as notebook_tqdm\n"
     ]
    }
   ],
   "source": [
    "from bbvi_infer_2l import * \n",
    "from f1 import *\n",
    "%matplotlib inline\n",
    "import pickle\n",
    "from sklearn.model_selection import cross_val_score\n",
    "from sklearn.neighbors import KNeighborsClassifier\n",
    "from sklearn.metrics import silhouette_score"
   ]
  },
  {
   "cell_type": "markdown",
   "id": "cf7e7503",
   "metadata": {},
   "source": [
    "### Read in data observations"
   ]
  },
  {
   "cell_type": "code",
   "execution_count": 2,
   "id": "9bc44966",
   "metadata": {},
   "outputs": [
    {
     "name": "stderr",
     "output_type": "stream",
     "text": [
      "req         WARNING \tDEFAULT CACHE ENABLED! (396.53 MB) /root/.cache/fastf1\n",
      "core           INFO \tLoading data for Chinese Grand Prix - Race [v3.6.1]\n",
      "req            INFO \tUsing cached data for session_info\n",
      "req            INFO \tUsing cached data for driver_info\n",
      "req            INFO \tUsing cached data for session_status_data\n",
      "req            INFO \tUsing cached data for lap_count\n",
      "req            INFO \tUsing cached data for track_status_data\n",
      "req            INFO \tUsing cached data for _extended_timing_data\n",
      "req            INFO \tUsing cached data for timing_app_data\n",
      "core           INFO \tProcessing timing data...\n",
      "req            INFO \tUsing cached data for car_data\n",
      "req            INFO \tUsing cached data for position_data\n",
      "req            INFO \tUsing cached data for weather_data\n",
      "req            INFO \tUsing cached data for race_control_messages\n",
      "core        WARNING \tDriver 1 completed the race distance 00:08.313000 before the recorded end of the session.\n",
      "core           INFO \tFinished loading data for 20 drivers: ['1', '4', '11', '16', '55', '63', '14', '81', '44', '27', '31', '23', '10', '24', '18', '20', '2', '3', '22', '77']\n"
     ]
    }
   ],
   "source": [
    "year= 2024\n",
    "gp = 'China'\n",
    "event = 'Race'\n",
    "\n",
    "session_event = ff1.get_session(year, gp, event)\n",
    "session_event.load()\n",
    "circuit_info = session_event.get_circuit_info()"
   ]
  },
  {
   "cell_type": "code",
   "execution_count": 3,
   "id": "f810f41a",
   "metadata": {},
   "outputs": [
    {
     "name": "stderr",
     "output_type": "stream",
     "text": [
      "/opt/conda/lib/python3.10/site-packages/fastf1/core.py:3183: FutureWarning: pick_driver is deprecated and will be removed in a future release. Use pick_drivers instead.\n",
      "  warnings.warn((\"pick_driver is deprecated and will be removed\"\n"
     ]
    }
   ],
   "source": [
    "# Train data\n",
    "pos_winner= generate_full_laps(session_event.laps.pick_driver('VER'), 'VER')\n",
    "## States \n",
    "states_train, zs_train = one_hot_states_multilap(pos_winner[['X','Y']].to_numpy(), circuit_info.corners[['X','Y']].to_numpy(), \n",
    "                                    pos_winner['LapNumber'].to_numpy())"
   ]
  },
  {
   "cell_type": "code",
   "execution_count": 4,
   "id": "deafe6d6",
   "metadata": {},
   "outputs": [],
   "source": [
    "## Standardize train data\n",
    "import numpy.random as npr\n",
    "from sklearn.preprocessing import StandardScaler\n",
    "scaler = StandardScaler()\n",
    "track_norm = scaler.fit_transform(pos_winner[['X','Y']].to_numpy())\n",
    "C = npr.randn(10, 2)  ## emission matrix\n",
    "ys_train = (C @ track_norm.T).T + npr.randn(track_norm.shape[0], 10)*0.01"
   ]
  },
  {
   "cell_type": "code",
   "execution_count": 5,
   "id": "3e9da436",
   "metadata": {},
   "outputs": [
    {
     "name": "stderr",
     "output_type": "stream",
     "text": [
      "/opt/conda/lib/python3.10/site-packages/fastf1/core.py:3183: FutureWarning: pick_driver is deprecated and will be removed in a future release. Use pick_drivers instead.\n",
      "  warnings.warn((\"pick_driver is deprecated and will be removed\"\n"
     ]
    }
   ],
   "source": [
    "## Test data\n",
    "pos_alt= generate_full_laps(session_event.laps.pick_driver('SAI'), 'SAI')\n",
    "### States\n",
    "states_test, zs_test = one_hot_states_multilap(pos_alt[['X','Y']].to_numpy(), circuit_info.corners[['X','Y']].to_numpy(), \n",
    "                                               pos_alt['LapNumber'].to_numpy())\n",
    "### Observations\n",
    "track_norm = scaler.transform(pos_alt[['X','Y']].to_numpy())\n",
    "ys_test = (C @ track_norm.T).T + npr.randn(track_norm.shape[0], 10)*0.01"
   ]
  },
  {
   "cell_type": "markdown",
   "id": "9c341f9a",
   "metadata": {},
   "source": [
    "## GSD"
   ]
  },
  {
   "cell_type": "code",
   "execution_count": 6,
   "id": "0d80ea36",
   "metadata": {},
   "outputs": [
    {
     "name": "stderr",
     "output_type": "stream",
     "text": [
      "ELBO: -92030.3, LR: 0.01000, Tau: 0.990:   5%|▍         | 193/4000 [00:02<00:47, 80.09it/s] /opt/conda/lib/python3.10/site-packages/torch/optim/lr_scheduler.py:240: UserWarning: The epoch parameter in `scheduler.step()` was not necessary and is being deprecated where possible. Please use `scheduler.step()` to step the scheduler. During the deprecation, if epoch is different from None, the closed form is used instead of the new chainable form, where available. Please open an issue if you are unable to replicate your use case: https://github.com/pytorch/pytorch/issues/new/choose.\n",
      "  warnings.warn(EPOCH_DEPRECATION_WARNING, UserWarning)\n",
      "ELBO: 171215.2, LR: 0.00100, Tau: 0.990: 100%|██████████| 4000/4000 [00:50<00:00, 79.85it/s]\n"
     ]
    },
    {
     "name": "stdout",
     "output_type": "stream",
     "text": [
      "Test accuracy for 2 states: [0.9849207501261057]\n",
      "State quality for 2 states: 0.3610425006387872\n"
     ]
    },
    {
     "name": "stderr",
     "output_type": "stream",
     "text": [
      "ELBO: 30954.1, LR: 0.01000, Tau: 0.990:   5%|▍         | 192/4000 [00:02<00:52, 72.40it/s]  /opt/conda/lib/python3.10/site-packages/torch/optim/lr_scheduler.py:240: UserWarning: The epoch parameter in `scheduler.step()` was not necessary and is being deprecated where possible. Please use `scheduler.step()` to step the scheduler. During the deprecation, if epoch is different from None, the closed form is used instead of the new chainable form, where available. Please open an issue if you are unable to replicate your use case: https://github.com/pytorch/pytorch/issues/new/choose.\n",
      "  warnings.warn(EPOCH_DEPRECATION_WARNING, UserWarning)\n",
      "ELBO: 494214.8, LR: 0.00100, Tau: 0.990: 100%|██████████| 4000/4000 [00:55<00:00, 72.24it/s]\n"
     ]
    },
    {
     "name": "stdout",
     "output_type": "stream",
     "text": [
      "Test accuracy for 3 states: [0.9991589784671543]\n",
      "State quality for 3 states: 0.6589302444425518\n"
     ]
    },
    {
     "name": "stderr",
     "output_type": "stream",
     "text": [
      "ELBO: -29018.9, LR: 0.01000, Tau: 0.990:   5%|▍         | 196/4000 [00:03<00:59, 63.77it/s] /opt/conda/lib/python3.10/site-packages/torch/optim/lr_scheduler.py:240: UserWarning: The epoch parameter in `scheduler.step()` was not necessary and is being deprecated where possible. Please use `scheduler.step()` to step the scheduler. During the deprecation, if epoch is different from None, the closed form is used instead of the new chainable form, where available. Please open an issue if you are unable to replicate your use case: https://github.com/pytorch/pytorch/issues/new/choose.\n",
      "  warnings.warn(EPOCH_DEPRECATION_WARNING, UserWarning)\n",
      "ELBO: 470370.8, LR: 0.00100, Tau: 0.990: 100%|██████████| 4000/4000 [01:03<00:00, 63.48it/s]\n"
     ]
    },
    {
     "name": "stdout",
     "output_type": "stream",
     "text": [
      "Test accuracy for 4 states: [0.9989725057349246]\n",
      "State quality for 4 states: 0.7194446810322801\n"
     ]
    },
    {
     "name": "stderr",
     "output_type": "stream",
     "text": [
      "ELBO: -115713.1, LR: 0.01000, Tau: 0.990:   5%|▍         | 198/4000 [00:03<01:04, 58.72it/s]/opt/conda/lib/python3.10/site-packages/torch/optim/lr_scheduler.py:240: UserWarning: The epoch parameter in `scheduler.step()` was not necessary and is being deprecated where possible. Please use `scheduler.step()` to step the scheduler. During the deprecation, if epoch is different from None, the closed form is used instead of the new chainable form, where available. Please open an issue if you are unable to replicate your use case: https://github.com/pytorch/pytorch/issues/new/choose.\n",
      "  warnings.warn(EPOCH_DEPRECATION_WARNING, UserWarning)\n",
      "ELBO: 5536.8, LR: 0.00100, Tau: 0.990:  25%|██▌       | 1005/4000 [00:17<00:51, 58.39it/s]  \n"
     ]
    },
    {
     "name": "stdout",
     "output_type": "stream",
     "text": [
      "Early stopping at iteration 1005.\n",
      "Test accuracy for 5 states: [0.9773706019118789]\n",
      "State quality for 5 states: 0.6426624648667064\n"
     ]
    },
    {
     "name": "stderr",
     "output_type": "stream",
     "text": [
      "ELBO: -90393.5, LR: 0.01000, Tau: 0.990:   5%|▍         | 198/4000 [00:03<01:09, 54.57it/s] /opt/conda/lib/python3.10/site-packages/torch/optim/lr_scheduler.py:240: UserWarning: The epoch parameter in `scheduler.step()` was not necessary and is being deprecated where possible. Please use `scheduler.step()` to step the scheduler. During the deprecation, if epoch is different from None, the closed form is used instead of the new chainable form, where available. Please open an issue if you are unable to replicate your use case: https://github.com/pytorch/pytorch/issues/new/choose.\n",
      "  warnings.warn(EPOCH_DEPRECATION_WARNING, UserWarning)\n",
      "ELBO: 247024.3, LR: 0.00100, Tau: 0.990: 100%|██████████| 4000/4000 [01:13<00:00, 54.37it/s]\n"
     ]
    },
    {
     "name": "stdout",
     "output_type": "stream",
     "text": [
      "Test accuracy for 6 states: [0.9932593822875779]\n",
      "State quality for 6 states: 0.6292053487777872\n"
     ]
    },
    {
     "name": "stderr",
     "output_type": "stream",
     "text": [
      "ELBO: -125043.4, LR: 0.01000, Tau: 0.990:   5%|▍         | 198/4000 [00:03<01:15, 50.16it/s]/opt/conda/lib/python3.10/site-packages/torch/optim/lr_scheduler.py:240: UserWarning: The epoch parameter in `scheduler.step()` was not necessary and is being deprecated where possible. Please use `scheduler.step()` to step the scheduler. During the deprecation, if epoch is different from None, the closed form is used instead of the new chainable form, where available. Please open an issue if you are unable to replicate your use case: https://github.com/pytorch/pytorch/issues/new/choose.\n",
      "  warnings.warn(EPOCH_DEPRECATION_WARNING, UserWarning)\n",
      "ELBO: 200985.7, LR: 0.00100, Tau: 0.990: 100%|██████████| 4000/4000 [01:19<00:00, 50.52it/s]\n"
     ]
    },
    {
     "name": "stdout",
     "output_type": "stream",
     "text": [
      "Test accuracy for 7 states: [0.9862095506159146]\n",
      "State quality for 7 states: 0.6330806575249127\n"
     ]
    },
    {
     "name": "stderr",
     "output_type": "stream",
     "text": [
      "ELBO: 62138.3, LR: 0.01000, Tau: 0.990:   5%|▍         | 195/4000 [00:04<01:25, 44.63it/s]  /opt/conda/lib/python3.10/site-packages/torch/optim/lr_scheduler.py:240: UserWarning: The epoch parameter in `scheduler.step()` was not necessary and is being deprecated where possible. Please use `scheduler.step()` to step the scheduler. During the deprecation, if epoch is different from None, the closed form is used instead of the new chainable form, where available. Please open an issue if you are unable to replicate your use case: https://github.com/pytorch/pytorch/issues/new/choose.\n",
      "  warnings.warn(EPOCH_DEPRECATION_WARNING, UserWarning)\n",
      "ELBO: 477772.0, LR: 0.00100, Tau: 0.990: 100%|██████████| 4000/4000 [01:29<00:00, 44.71it/s]\n"
     ]
    },
    {
     "name": "stdout",
     "output_type": "stream",
     "text": [
      "Test accuracy for 8 states: [0.9990380417329424]\n",
      "State quality for 8 states: 0.7010050251256281\n"
     ]
    },
    {
     "name": "stderr",
     "output_type": "stream",
     "text": [
      "ELBO: -73369.1, LR: 0.01000, Tau: 0.990:   5%|▍         | 195/4000 [00:04<01:33, 40.81it/s] /opt/conda/lib/python3.10/site-packages/torch/optim/lr_scheduler.py:240: UserWarning: The epoch parameter in `scheduler.step()` was not necessary and is being deprecated where possible. Please use `scheduler.step()` to step the scheduler. During the deprecation, if epoch is different from None, the closed form is used instead of the new chainable form, where available. Please open an issue if you are unable to replicate your use case: https://github.com/pytorch/pytorch/issues/new/choose.\n",
      "  warnings.warn(EPOCH_DEPRECATION_WARNING, UserWarning)\n",
      "ELBO: 400501.2, LR: 0.00100, Tau: 0.990: 100%|██████████| 4000/4000 [01:38<00:00, 40.80it/s]\n"
     ]
    },
    {
     "name": "stdout",
     "output_type": "stream",
     "text": [
      "Test accuracy for 9 states: [0.996178151090454]\n",
      "State quality for 9 states: 0.737756579507708\n"
     ]
    },
    {
     "name": "stderr",
     "output_type": "stream",
     "text": [
      "ELBO: -13125.9, LR: 0.01000, Tau: 0.990:   5%|▍         | 196/4000 [00:05<01:37, 38.88it/s] /opt/conda/lib/python3.10/site-packages/torch/optim/lr_scheduler.py:240: UserWarning: The epoch parameter in `scheduler.step()` was not necessary and is being deprecated where possible. Please use `scheduler.step()` to step the scheduler. During the deprecation, if epoch is different from None, the closed form is used instead of the new chainable form, where available. Please open an issue if you are unable to replicate your use case: https://github.com/pytorch/pytorch/issues/new/choose.\n",
      "  warnings.warn(EPOCH_DEPRECATION_WARNING, UserWarning)\n",
      "ELBO: 464532.5, LR: 0.00100, Tau: 0.990: 100%|██████████| 4000/4000 [01:42<00:00, 38.84it/s]\n"
     ]
    },
    {
     "name": "stdout",
     "output_type": "stream",
     "text": [
      "Test accuracy for 10 states: [0.9989036909872235]\n",
      "State quality for 10 states: 0.6739630355165659\n",
      "Finish one round, [0.3610425006387872, 0.6589302444425518, 0.7194446810322801, 0.6426624648667064, 0.6292053487777872, 0.6330806575249127, 0.7010050251256281, 0.737756579507708, 0.6739630355165659]\n"
     ]
    },
    {
     "name": "stderr",
     "output_type": "stream",
     "text": [
      "ELBO: -71402.8, LR: 0.01000, Tau: 0.990:   5%|▍         | 197/4000 [00:02<00:47, 79.28it/s] /opt/conda/lib/python3.10/site-packages/torch/optim/lr_scheduler.py:240: UserWarning: The epoch parameter in `scheduler.step()` was not necessary and is being deprecated where possible. Please use `scheduler.step()` to step the scheduler. During the deprecation, if epoch is different from None, the closed form is used instead of the new chainable form, where available. Please open an issue if you are unable to replicate your use case: https://github.com/pytorch/pytorch/issues/new/choose.\n",
      "  warnings.warn(EPOCH_DEPRECATION_WARNING, UserWarning)\n",
      "ELBO: 112918.0, LR: 0.00100, Tau: 0.990:  53%|█████▎    | 2113/4000 [00:26<00:23, 79.81it/s]\n"
     ]
    },
    {
     "name": "stdout",
     "output_type": "stream",
     "text": [
      "Early stopping at iteration 2113.\n",
      "Test accuracy for 2 states: [0.9791681248777339]\n",
      "State quality for 2 states: 0.4901200919853505\n"
     ]
    },
    {
     "name": "stderr",
     "output_type": "stream",
     "text": [
      "ELBO: -29254.7, LR: 0.01000, Tau: 0.990:   5%|▍         | 192/4000 [00:02<00:52, 72.69it/s] /opt/conda/lib/python3.10/site-packages/torch/optim/lr_scheduler.py:240: UserWarning: The epoch parameter in `scheduler.step()` was not necessary and is being deprecated where possible. Please use `scheduler.step()` to step the scheduler. During the deprecation, if epoch is different from None, the closed form is used instead of the new chainable form, where available. Please open an issue if you are unable to replicate your use case: https://github.com/pytorch/pytorch/issues/new/choose.\n",
      "  warnings.warn(EPOCH_DEPRECATION_WARNING, UserWarning)\n",
      "ELBO: 478287.1, LR: 0.00100, Tau: 0.990: 100%|██████████| 4000/4000 [00:55<00:00, 72.34it/s]\n"
     ]
    },
    {
     "name": "stdout",
     "output_type": "stream",
     "text": [
      "Test accuracy for 3 states: [0.9990123334104014]\n",
      "State quality for 3 states: 0.5782301337194446\n"
     ]
    },
    {
     "name": "stderr",
     "output_type": "stream",
     "text": [
      "ELBO: -163589.0, LR: 0.01000, Tau: 0.990:   5%|▍         | 196/4000 [00:03<00:59, 63.89it/s]/opt/conda/lib/python3.10/site-packages/torch/optim/lr_scheduler.py:240: UserWarning: The epoch parameter in `scheduler.step()` was not necessary and is being deprecated where possible. Please use `scheduler.step()` to step the scheduler. During the deprecation, if epoch is different from None, the closed form is used instead of the new chainable form, where available. Please open an issue if you are unable to replicate your use case: https://github.com/pytorch/pytorch/issues/new/choose.\n",
      "  warnings.warn(EPOCH_DEPRECATION_WARNING, UserWarning)\n",
      "ELBO: 4208.2, LR: 0.00100, Tau: 0.990:  70%|███████   | 2813/4000 [00:44<00:18, 63.37it/s]  \n"
     ]
    },
    {
     "name": "stdout",
     "output_type": "stream",
     "text": [
      "Early stopping at iteration 2813.\n",
      "Test accuracy for 4 states: [0.9709867444757606]\n",
      "State quality for 4 states: 0.42619879056298443\n"
     ]
    },
    {
     "name": "stderr",
     "output_type": "stream",
     "text": [
      "ELBO: -55873.4, LR: 0.01000, Tau: 0.990:   5%|▍         | 198/4000 [00:03<01:08, 55.19it/s] /opt/conda/lib/python3.10/site-packages/torch/optim/lr_scheduler.py:240: UserWarning: The epoch parameter in `scheduler.step()` was not necessary and is being deprecated where possible. Please use `scheduler.step()` to step the scheduler. During the deprecation, if epoch is different from None, the closed form is used instead of the new chainable form, where available. Please open an issue if you are unable to replicate your use case: https://github.com/pytorch/pytorch/issues/new/choose.\n",
      "  warnings.warn(EPOCH_DEPRECATION_WARNING, UserWarning)\n",
      "ELBO: 424680.3, LR: 0.00100, Tau: 0.990: 100%|██████████| 4000/4000 [01:10<00:00, 56.75it/s]\n"
     ]
    },
    {
     "name": "stdout",
     "output_type": "stream",
     "text": [
      "Test accuracy for 5 states: [0.9984357895503919]\n",
      "State quality for 5 states: 0.4857763393237373\n"
     ]
    },
    {
     "name": "stderr",
     "output_type": "stream",
     "text": [
      "ELBO: -61045.7, LR: 0.01000, Tau: 0.990:   5%|▍         | 198/4000 [00:03<01:09, 54.42it/s] /opt/conda/lib/python3.10/site-packages/torch/optim/lr_scheduler.py:240: UserWarning: The epoch parameter in `scheduler.step()` was not necessary and is being deprecated where possible. Please use `scheduler.step()` to step the scheduler. During the deprecation, if epoch is different from None, the closed form is used instead of the new chainable form, where available. Please open an issue if you are unable to replicate your use case: https://github.com/pytorch/pytorch/issues/new/choose.\n",
      "  warnings.warn(EPOCH_DEPRECATION_WARNING, UserWarning)\n",
      "ELBO: 184472.9, LR: 0.00100, Tau: 0.990:  55%|█████▌    | 2208/4000 [00:40<00:32, 54.48it/s]"
     ]
    }
   ],
   "source": [
    "gsd = []\n",
    "for seed in range(3):  ## repeat tests\n",
    "    torch.manual_seed(seed)  # Set PyTorch seed\n",
    "    torch.cuda.manual_seed_all(seed)  # Set CUDA seed \n",
    "    accs = []\n",
    "    for K in range(2, 11):\n",
    "        model = GenerativeSLDS(N=10, K=K, D=2, emission_model=\"gaussian\")\n",
    "        elbos, variational_z = fit_bbvi_schedule(model.to('cuda'), ys = torch.tensor(ys_train).to('cuda').float(), \n",
    "                                             num_iters=4000, learning=True, n_samples=10, base_lr=1e-2, warmup_iters=200, tau_max=0.99)\n",
    "        zs = variational_z.sample_q_z(torch.tensor(ys_train).to('cuda').float().unsqueeze(0).expand(20, -1, -1), 0.99)\n",
    "        zs2 = variational_z.sample_q_z(torch.tensor(ys_test).to('cuda').float().unsqueeze(0).expand(20, -1, -1), 0.99)\n",
    "        pred_ys2=model.smooth(torch.tensor(ys_test).to('cuda').float(), zs2).mean(dim=0).detach().cpu().numpy() # [T, N]\n",
    "        print(f\"Test accuracy for {K} states:\", train_metrics(ys_test, pred_ys2, None, k_max=0))\n",
    "        Z_train = torch.mean(zs, dim=0).detach().cpu().numpy()\n",
    "        Y_train = np.array(zs_train)\n",
    "        Z_test = torch.mean(zs2, dim=0).detach().cpu().numpy()\n",
    "        Y_test = np.array(zs_test)\n",
    "        # Train KNN classifier\n",
    "        knn = KNeighborsClassifier(n_neighbors=10, metric='euclidean')\n",
    "        knn.fit(Z_train, Y_train)\n",
    "        acc = knn.score(Z_test, Y_test)\n",
    "        print(f\"State quality for {K} states:\", acc)\n",
    "        accs.append(acc)  \n",
    "    print(\"Finish one round,\", accs)\n",
    "    gsd.append(np.array(accs))\n",
    "    np.save('./saved2024/f12024GSD.npy', np.array(gsd))"
   ]
  },
  {
   "cell_type": "markdown",
   "id": "3170555b",
   "metadata": {},
   "source": [
    "## rSLDS"
   ]
  },
  {
   "cell_type": "code",
   "execution_count": 6,
   "id": "35685df9",
   "metadata": {},
   "outputs": [],
   "source": [
    "import ssm\n",
    "from ssm.extensions.mp_srslds.transitions_ext import StickyRecurrentOnlyTransitions, StickyRecurrentTransitions"
   ]
  },
  {
   "cell_type": "code",
   "execution_count": 7,
   "id": "b703c497",
   "metadata": {},
   "outputs": [
    {
     "name": "stderr",
     "output_type": "stream",
     "text": [
      "ELBO: 647499.2: 100%|██████████| 100/100 [02:43<00:00,  1.63s/it]\n",
      "ELBO: 651184.6: 100%|██████████| 20/20 [00:23<00:00,  1.19s/it]\n"
     ]
    },
    {
     "name": "stdout",
     "output_type": "stream",
     "text": [
      "Test accuracy for 2 states: [0.9997806517054715]\n",
      "Silhouette score at 2 states: 0.043377017763064435\n",
      "State quality for 2 states: 0.03560173750106464\n"
     ]
    },
    {
     "name": "stderr",
     "output_type": "stream",
     "text": [
      "ELBO: 656269.4: 100%|██████████| 100/100 [03:00<00:00,  1.80s/it]\n",
      "ELBO: 660121.1: 100%|██████████| 20/20 [00:26<00:00,  1.34s/it]\n"
     ]
    },
    {
     "name": "stdout",
     "output_type": "stream",
     "text": [
      "Test accuracy for 3 states: [0.9997805796289772]\n",
      "Silhouette score at 3 states: -0.042072581759947034\n",
      "State quality for 3 states: 0.15910058768418364\n"
     ]
    },
    {
     "name": "stderr",
     "output_type": "stream",
     "text": [
      "ELBO: 661709.9: 100%|██████████| 100/100 [03:42<00:00,  2.23s/it]\n",
      "ELBO: 665660.7: 100%|██████████| 20/20 [00:32<00:00,  1.62s/it]\n"
     ]
    },
    {
     "name": "stdout",
     "output_type": "stream",
     "text": [
      "Test accuracy for 4 states: [0.9997799054998697]\n",
      "Silhouette score at 4 states: -0.048837278239596806\n",
      "State quality for 4 states: 0.17779575845328335\n"
     ]
    },
    {
     "name": "stderr",
     "output_type": "stream",
     "text": [
      "ELBO: 661434.3: 100%|██████████| 100/100 [04:11<00:00,  2.52s/it]\n",
      "ELBO: 665584.6: 100%|██████████| 20/20 [00:35<00:00,  1.78s/it]\n"
     ]
    },
    {
     "name": "stdout",
     "output_type": "stream",
     "text": [
      "Test accuracy for 5 states: [0.9997799219806183]\n",
      "Silhouette score at 5 states: -0.07971538243774795\n",
      "State quality for 5 states: 0.1091474320756324\n"
     ]
    },
    {
     "name": "stderr",
     "output_type": "stream",
     "text": [
      "ELBO: 663317.7: 100%|██████████| 100/100 [05:03<00:00,  3.04s/it]\n",
      "ELBO: 667019.0: 100%|██████████| 20/20 [00:41<00:00,  2.09s/it]\n"
     ]
    },
    {
     "name": "stdout",
     "output_type": "stream",
     "text": [
      "Test accuracy for 6 states: [0.9997796383854226]\n",
      "Silhouette score at 6 states: -0.057608712615416946\n",
      "State quality for 6 states: 0.24929733412826846\n"
     ]
    },
    {
     "name": "stderr",
     "output_type": "stream",
     "text": [
      "ELBO: 665400.3: 100%|██████████| 100/100 [05:50<00:00,  3.51s/it]\n",
      "ELBO: 669453.1: 100%|██████████| 20/20 [00:47<00:00,  2.40s/it]\n"
     ]
    },
    {
     "name": "stdout",
     "output_type": "stream",
     "text": [
      "Test accuracy for 7 states: [0.999779189845017]\n",
      "Silhouette score at 7 states: -0.05099060521540595\n",
      "State quality for 7 states: 0.23362575589813475\n"
     ]
    },
    {
     "name": "stderr",
     "output_type": "stream",
     "text": [
      "ELBO: 667492.9: 100%|██████████| 100/100 [06:48<00:00,  4.08s/it]\n",
      "ELBO: 671727.2: 100%|██████████| 20/20 [00:55<00:00,  2.75s/it]\n"
     ]
    },
    {
     "name": "stdout",
     "output_type": "stream",
     "text": [
      "Test accuracy for 8 states: [0.9997790773144178]\n",
      "Silhouette score at 8 states: -0.04792630228215438\n",
      "State quality for 8 states: 0.2748488203730517\n"
     ]
    },
    {
     "name": "stderr",
     "output_type": "stream",
     "text": [
      "ELBO: 668575.3: 100%|██████████| 100/100 [07:38<00:00,  4.59s/it]\n",
      "ELBO: 672335.2: 100%|██████████| 20/20 [01:01<00:00,  3.07s/it]\n"
     ]
    },
    {
     "name": "stdout",
     "output_type": "stream",
     "text": [
      "Test accuracy for 9 states: [0.9997787768276843]\n",
      "Silhouette score at 9 states: -0.08617376045944702\n",
      "State quality for 9 states: 0.4407205519121029\n"
     ]
    },
    {
     "name": "stderr",
     "output_type": "stream",
     "text": [
      "ELBO: 669322.1: 100%|██████████| 100/100 [09:06<00:00,  5.46s/it]\n",
      "ELBO: 672884.2: 100%|██████████| 20/20 [01:08<00:00,  3.44s/it]\n"
     ]
    },
    {
     "name": "stdout",
     "output_type": "stream",
     "text": [
      "Test accuracy for 10 states: [0.9997785921090852]\n",
      "Silhouette score at 10 states: -0.11593516642066365\n",
      "State quality for 10 states: 0.3611276722596031\n",
      "Finish one round, [0.03560173750106464, 0.15910058768418364, 0.17779575845328335, 0.1091474320756324, 0.24929733412826846, 0.23362575589813475, 0.2748488203730517, 0.4407205519121029, 0.3611276722596031]\n"
     ]
    },
    {
     "name": "stderr",
     "output_type": "stream",
     "text": [
      "ELBO: 646632.7: 100%|██████████| 100/100 [02:35<00:00,  1.55s/it]\n",
      "ELBO: 650263.0: 100%|██████████| 20/20 [00:23<00:00,  1.19s/it]\n"
     ]
    },
    {
     "name": "stdout",
     "output_type": "stream",
     "text": [
      "Test accuracy for 2 states: [0.9997808857287808]\n",
      "Silhouette score at 2 states: 0.04168725105060632\n",
      "State quality for 2 states: 0.121965761008432\n"
     ]
    },
    {
     "name": "stderr",
     "output_type": "stream",
     "text": [
      "ELBO: 654732.7: 100%|██████████| 100/100 [02:55<00:00,  1.76s/it]\n",
      "ELBO: 658451.1: 100%|██████████| 20/20 [00:26<00:00,  1.33s/it]\n"
     ]
    },
    {
     "name": "stdout",
     "output_type": "stream",
     "text": [
      "Test accuracy for 3 states: [0.9997806342896209]\n",
      "Silhouette score at 3 states: -0.0009589945782676562\n",
      "State quality for 3 states: 0.1932969934417852\n"
     ]
    },
    {
     "name": "stderr",
     "output_type": "stream",
     "text": [
      "ELBO: 660588.5: 100%|██████████| 100/100 [03:21<00:00,  2.01s/it]\n",
      "ELBO: 664391.2: 100%|██████████| 20/20 [00:30<00:00,  1.50s/it]\n"
     ]
    },
    {
     "name": "stdout",
     "output_type": "stream",
     "text": [
      "Test accuracy for 4 states: [0.9997802505447642]\n",
      "Silhouette score at 4 states: -0.039245425577938135\n",
      "State quality for 4 states: 0.22983561877182523\n"
     ]
    },
    {
     "name": "stderr",
     "output_type": "stream",
     "text": [
      "ELBO: 661323.1: 100%|██████████| 100/100 [03:51<00:00,  2.32s/it]\n",
      "ELBO: 665293.6: 100%|██████████| 20/20 [00:34<00:00,  1.71s/it]\n"
     ]
    },
    {
     "name": "stdout",
     "output_type": "stream",
     "text": [
      "Test accuracy for 5 states: [0.9997798946093635]\n",
      "Silhouette score at 5 states: -0.04824309260674932\n",
      "State quality for 5 states: 0.2047525764415297\n"
     ]
    },
    {
     "name": "stderr",
     "output_type": "stream",
     "text": [
      "ELBO: 665655.8: 100%|██████████| 100/100 [04:50<00:00,  2.90s/it]\n",
      "ELBO: 669427.0: 100%|██████████| 20/20 [00:41<00:00,  2.06s/it]\n"
     ]
    },
    {
     "name": "stdout",
     "output_type": "stream",
     "text": [
      "Test accuracy for 6 states: [0.9997793792495896]\n",
      "Silhouette score at 6 states: -0.0806727820078585\n",
      "State quality for 6 states: 0.21275870879822842\n"
     ]
    },
    {
     "name": "stderr",
     "output_type": "stream",
     "text": [
      "ELBO: 664646.5: 100%|██████████| 100/100 [05:52<00:00,  3.53s/it]\n",
      "ELBO: 668593.1: 100%|██████████| 20/20 [00:47<00:00,  2.35s/it]\n"
     ]
    },
    {
     "name": "stdout",
     "output_type": "stream",
     "text": [
      "Test accuracy for 7 states: [0.9997793167615996]\n",
      "Silhouette score at 7 states: -0.1362184565552807\n",
      "State quality for 7 states: 0.22966527553019334\n"
     ]
    },
    {
     "name": "stderr",
     "output_type": "stream",
     "text": [
      "ELBO: 671391.5: 100%|██████████| 100/100 [06:32<00:00,  3.93s/it]\n",
      "ELBO: 675092.8: 100%|██████████| 20/20 [00:54<00:00,  2.71s/it]\n"
     ]
    },
    {
     "name": "stdout",
     "output_type": "stream",
     "text": [
      "Test accuracy for 8 states: [0.9997780914100598]\n",
      "Silhouette score at 8 states: -0.07664817259933777\n",
      "State quality for 8 states: 0.3526105101780087\n"
     ]
    },
    {
     "name": "stderr",
     "output_type": "stream",
     "text": [
      "ELBO: 671695.1: 100%|██████████| 100/100 [07:31<00:00,  4.51s/it]\n",
      "ELBO: 675799.1: 100%|██████████| 20/20 [01:01<00:00,  3.06s/it]\n"
     ]
    },
    {
     "name": "stdout",
     "output_type": "stream",
     "text": [
      "Test accuracy for 9 states: [0.9997781769182719]\n",
      "Silhouette score at 9 states: -0.027845416813297157\n",
      "State quality for 9 states: 0.16872498083638532\n"
     ]
    },
    {
     "name": "stderr",
     "output_type": "stream",
     "text": [
      "ELBO: 673336.9: 100%|██████████| 100/100 [09:09<00:00,  5.50s/it]\n",
      "ELBO: 676951.1: 100%|██████████| 20/20 [01:09<00:00,  3.47s/it]\n"
     ]
    },
    {
     "name": "stdout",
     "output_type": "stream",
     "text": [
      "Test accuracy for 10 states: [0.9997777061238657]\n",
      "Silhouette score at 10 states: -0.004791495609389184\n",
      "State quality for 10 states: 0.37105016608466057\n",
      "Finish one round, [0.121965761008432, 0.1932969934417852, 0.22983561877182523, 0.2047525764415297, 0.21275870879822842, 0.22966527553019334, 0.3526105101780087, 0.16872498083638532, 0.37105016608466057]\n"
     ]
    },
    {
     "name": "stderr",
     "output_type": "stream",
     "text": [
      "ELBO: 647058.3: 100%|██████████| 100/100 [02:51<00:00,  1.71s/it]\n",
      "ELBO: 650412.8: 100%|██████████| 20/20 [00:26<00:00,  1.35s/it]\n"
     ]
    },
    {
     "name": "stdout",
     "output_type": "stream",
     "text": [
      "Test accuracy for 2 states: [0.9997808628761373]\n",
      "Silhouette score at 2 states: 0.03973423078557887\n",
      "State quality for 2 states: 0.121965761008432\n"
     ]
    },
    {
     "name": "stderr",
     "output_type": "stream",
     "text": [
      "ELBO: 652099.0: 100%|██████████| 100/100 [02:55<00:00,  1.76s/it]\n",
      "ELBO: 655457.6: 100%|██████████| 20/20 [00:26<00:00,  1.33s/it]\n"
     ]
    },
    {
     "name": "stdout",
     "output_type": "stream",
     "text": [
      "Test accuracy for 3 states: [0.9997808323230084]\n",
      "Silhouette score at 3 states: -0.008301927765826684\n",
      "State quality for 3 states: 0.1544587343497147\n"
     ]
    },
    {
     "name": "stderr",
     "output_type": "stream",
     "text": [
      "ELBO: 661506.2: 100%|██████████| 100/100 [03:25<00:00,  2.06s/it]\n",
      "ELBO: 665236.7: 100%|██████████| 20/20 [00:29<00:00,  1.50s/it]\n"
     ]
    },
    {
     "name": "stdout",
     "output_type": "stream",
     "text": [
      "Test accuracy for 4 states: [0.9997799495615087]\n",
      "Silhouette score at 4 states: -0.04388174721383831\n",
      "State quality for 4 states: 0.21948726684268802\n"
     ]
    },
    {
     "name": "stderr",
     "output_type": "stream",
     "text": [
      "ELBO: 665517.7: 100%|██████████| 100/100 [03:55<00:00,  2.36s/it]\n",
      "ELBO: 669329.5: 100%|██████████| 20/20 [00:34<00:00,  1.71s/it]\n"
     ]
    },
    {
     "name": "stdout",
     "output_type": "stream",
     "text": [
      "Test accuracy for 5 states: [0.9997791061872903]\n",
      "Silhouette score at 5 states: -0.05303508362983916\n",
      "State quality for 5 states: 0.1399369730005962\n"
     ]
    },
    {
     "name": "stderr",
     "output_type": "stream",
     "text": [
      "ELBO: 663300.0: 100%|██████████| 100/100 [04:57<00:00,  2.97s/it]\n",
      "ELBO: 667501.0: 100%|██████████| 20/20 [00:41<00:00,  2.06s/it]\n"
     ]
    },
    {
     "name": "stdout",
     "output_type": "stream",
     "text": [
      "Test accuracy for 6 states: [0.9997794806673614]\n",
      "Silhouette score at 6 states: -0.099859297165606\n",
      "State quality for 6 states: 0.2188910654969764\n"
     ]
    },
    {
     "name": "stderr",
     "output_type": "stream",
     "text": [
      "ELBO: 664443.7: 100%|██████████| 100/100 [05:39<00:00,  3.40s/it]\n",
      "ELBO: 668552.4: 100%|██████████| 20/20 [00:47<00:00,  2.36s/it]\n"
     ]
    },
    {
     "name": "stdout",
     "output_type": "stream",
     "text": [
      "Test accuracy for 7 states: [0.9997794315277201]\n",
      "Silhouette score at 7 states: -0.07412027959459139\n",
      "State quality for 7 states: 0.2511711097862192\n"
     ]
    },
    {
     "name": "stderr",
     "output_type": "stream",
     "text": [
      "ELBO: 666133.2: 100%|██████████| 100/100 [06:34<00:00,  3.95s/it]\n",
      "ELBO: 670007.9: 100%|██████████| 20/20 [00:56<00:00,  2.84s/it]\n"
     ]
    },
    {
     "name": "stdout",
     "output_type": "stream",
     "text": [
      "Test accuracy for 8 states: [0.999779133741623]\n",
      "Silhouette score at 8 states: -0.08528136025250942\n",
      "State quality for 8 states: 0.23294438293160719\n"
     ]
    },
    {
     "name": "stderr",
     "output_type": "stream",
     "text": [
      "ELBO: 668852.2: 100%|██████████| 100/100 [07:49<00:00,  4.70s/it]\n",
      "ELBO: 673013.0: 100%|██████████| 20/20 [01:00<00:00,  3.04s/it]\n"
     ]
    },
    {
     "name": "stdout",
     "output_type": "stream",
     "text": [
      "Test accuracy for 9 states: [0.9997784174535924]\n",
      "Silhouette score at 9 states: -0.15391312369341537\n",
      "State quality for 9 states: 0.2769781108934503\n"
     ]
    },
    {
     "name": "stderr",
     "output_type": "stream",
     "text": [
      "ELBO: 669391.3: 100%|██████████| 100/100 [08:55<00:00,  5.35s/it]\n",
      "ELBO: 673192.6: 100%|██████████| 20/20 [01:09<00:00,  3.49s/it]\n"
     ]
    },
    {
     "name": "stdout",
     "output_type": "stream",
     "text": [
      "Test accuracy for 10 states: [0.9997786277510159]\n",
      "Silhouette score at 10 states: -0.13996371548986072\n",
      "State quality for 10 states: 0.24614598415807853\n",
      "Finish one round, [0.121965761008432, 0.1544587343497147, 0.21948726684268802, 0.1399369730005962, 0.2188910654969764, 0.2511711097862192, 0.23294438293160719, 0.2769781108934503, 0.24614598415807853]\n"
     ]
    }
   ],
   "source": [
    "slds_acc = []\n",
    "slds_sil = []\n",
    "for seed in range(3):  ## repeat tests\n",
    "    torch.manual_seed(seed)  # Set PyTorch seed\n",
    "    torch.cuda.manual_seed_all(seed)  # Set CUDA seed \n",
    "    accs2 = []\n",
    "    sils = []\n",
    "    for K in range(2, 11):\n",
    "        sro_trans=StickyRecurrentOnlyTransitions(K=K,D=2) \n",
    "        rslds = ssm.SLDS(N=10, K=K, D=2,\n",
    "                 transitions=sro_trans,\n",
    "                 dynamics=\"diagonal_gaussian\",\n",
    "                 emissions=\"gaussian\",\n",
    "                 single_subspace=True)\n",
    "        rslds.initialize(ys_train)\n",
    "        q_elbos_lem, q_lem = rslds.fit(ys_train, method=\"laplace_em\", \n",
    "                                   variational_posterior=\"structured_meanfield\",\n",
    "                                   initialize=False, num_iters=100, alpha=0.0)\n",
    "        q_lem_x = q_lem.mean_continuous_states[0]\n",
    "        q_lem_z = rslds.most_likely_states(q_lem_x, ys_train)\n",
    "        # plot_trajectory(q_lem_z, q_lem_x)\n",
    "        elbos, q_lem2 = rslds.approximate_posterior(ys_test,\n",
    "                                        method=\"laplace_em\",\n",
    "                                        variational_posterior=\"structured_meanfield\",\n",
    "                                        num_iters=20)\n",
    "        q_lem_x2 = q_lem2.mean_continuous_states[0]\n",
    "        q_lem_z2 = rslds.most_likely_states(q_lem_x2, ys_test)\n",
    "        sil = silhouette_score(q_lem_x2, q_lem_z2)\n",
    "        pred_ys2=rslds.smooth(q_lem_x2, ys_test)\n",
    "        print(f\"Test accuracy for {K} states:\", train_metrics(ys_test, pred_ys2, None, k_max=0))\n",
    "        print(f\"Silhouette score at {K} states:\", sil)\n",
    "        Z_train = np.eye(K)[q_lem_z]\n",
    "        Y_train = np.array(zs_train)\n",
    "        Z_test = np.eye(K)[q_lem_z2]\n",
    "        Y_test = np.array(zs_test)\n",
    "        # Train KNN classifier\n",
    "        knn = KNeighborsClassifier(n_neighbors=10, metric='euclidean')\n",
    "        knn.fit(Z_train, Y_train)\n",
    "        acc = knn.score(Z_test, Y_test)\n",
    "        print(f\"State quality for {K} states:\", acc)\n",
    "        accs2.append(acc)\n",
    "        sils.append(sil)\n",
    "    print(\"Finish one round,\", accs2)\n",
    "    slds_acc.append(np.array(accs2))\n",
    "    slds_sil.append(np.array(sils))\n",
    "    np.save('./saved2024/f12024SLDS.npy', np.array(slds_acc))    \n",
    "    np.save('./saved2024/f12024SLDS_sil.npy', np.array(slds_sil))   "
   ]
  },
  {
   "cell_type": "code",
   "execution_count": null,
   "id": "ae85dbb1",
   "metadata": {},
   "outputs": [],
   "source": []
  }
 ],
 "metadata": {
  "kernelspec": {
   "display_name": "Python 3 (ipykernel)",
   "language": "python",
   "name": "python3"
  },
  "language_info": {
   "codemirror_mode": {
    "name": "ipython",
    "version": 3
   },
   "file_extension": ".py",
   "mimetype": "text/x-python",
   "name": "python",
   "nbconvert_exporter": "python",
   "pygments_lexer": "ipython3",
   "version": "3.10.18"
  }
 },
 "nbformat": 4,
 "nbformat_minor": 5
}
