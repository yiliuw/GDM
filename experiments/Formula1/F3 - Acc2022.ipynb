{
 "cells": [
  {
   "cell_type": "markdown",
   "id": "6a609ee8",
   "metadata": {},
   "source": [
    "## F1 state representation quality using multiple states  "
   ]
  },
  {
   "cell_type": "code",
   "execution_count": 1,
   "id": "7c99b58c",
   "metadata": {},
   "outputs": [
    {
     "name": "stderr",
     "output_type": "stream",
     "text": [
      "/opt/conda/lib/python3.10/site-packages/tqdm/auto.py:22: TqdmWarning: IProgress not found. Please update jupyter and ipywidgets. See https://ipywidgets.readthedocs.io/en/stable/user_install.html\n",
      "  from .autonotebook import tqdm as notebook_tqdm\n"
     ]
    }
   ],
   "source": [
    "from bbvi_infer_2l import * \n",
    "from f1 import *\n",
    "%matplotlib inline\n",
    "import pickle\n",
    "from sklearn.model_selection import cross_val_score\n",
    "from sklearn.neighbors import KNeighborsClassifier\n",
    "from sklearn.metrics import silhouette_score"
   ]
  },
  {
   "cell_type": "markdown",
   "id": "cf7e7503",
   "metadata": {},
   "source": [
    "### Read in data observations"
   ]
  },
  {
   "cell_type": "code",
   "execution_count": 2,
   "id": "9bc44966",
   "metadata": {},
   "outputs": [
    {
     "name": "stderr",
     "output_type": "stream",
     "text": [
      "req         WARNING \tDEFAULT CACHE ENABLED! (154.83 MB) /root/.cache/fastf1\n",
      "core           INFO \tLoading data for Japanese Grand Prix - Race [v3.6.1]\n",
      "req            INFO \tUsing cached data for session_info\n",
      "req            INFO \tUsing cached data for driver_info\n",
      "req            INFO \tUsing cached data for session_status_data\n",
      "req            INFO \tUsing cached data for lap_count\n",
      "req            INFO \tUsing cached data for track_status_data\n",
      "req            INFO \tUsing cached data for _extended_timing_data\n",
      "req            INFO \tUsing cached data for timing_app_data\n",
      "core           INFO \tProcessing timing data...\n",
      "req            INFO \tUsing cached data for car_data\n",
      "req            INFO \tUsing cached data for position_data\n",
      "req            INFO \tUsing cached data for weather_data\n",
      "req            INFO \tUsing cached data for race_control_messages\n",
      "core           INFO \tFinished loading data for 20 drivers: ['1', '11', '16', '31', '44', '5', '14', '63', '6', '4', '3', '18', '22', '20', '77', '24', '47', '10', '55', '23']\n"
     ]
    }
   ],
   "source": [
    "year= 2022\n",
    "gp = 'Japan'\n",
    "event = 'Race'\n",
    "\n",
    "session_event = ff1.get_session(year, gp, event)\n",
    "session_event.load()\n",
    "circuit_info = session_event.get_circuit_info()"
   ]
  },
  {
   "cell_type": "code",
   "execution_count": 3,
   "id": "f810f41a",
   "metadata": {},
   "outputs": [
    {
     "name": "stderr",
     "output_type": "stream",
     "text": [
      "/opt/conda/lib/python3.10/site-packages/fastf1/core.py:3183: FutureWarning: pick_driver is deprecated and will be removed in a future release. Use pick_drivers instead.\n",
      "  warnings.warn((\"pick_driver is deprecated and will be removed\"\n"
     ]
    }
   ],
   "source": [
    "# Train data\n",
    "pos_winner= generate_full_laps(session_event.laps.pick_driver('VER'), 'VER')\n",
    "## States \n",
    "states_train, zs_train = one_hot_states_multilap(pos_winner[['X','Y']].to_numpy(), circuit_info.corners[['X','Y']].to_numpy(), \n",
    "                                    pos_winner['LapNumber'].to_numpy())"
   ]
  },
  {
   "cell_type": "code",
   "execution_count": 4,
   "id": "deafe6d6",
   "metadata": {},
   "outputs": [],
   "source": [
    "## Standardize train data\n",
    "import numpy.random as npr\n",
    "from sklearn.preprocessing import StandardScaler\n",
    "scaler = StandardScaler()\n",
    "track_norm = scaler.fit_transform(pos_winner[['X','Y']].to_numpy())\n",
    "C = npr.randn(10, 2)  ## emission matrix\n",
    "ys_train = (C @ track_norm.T).T + npr.randn(track_norm.shape[0], 10)*0.01"
   ]
  },
  {
   "cell_type": "code",
   "execution_count": 5,
   "id": "3e9da436",
   "metadata": {},
   "outputs": [
    {
     "name": "stderr",
     "output_type": "stream",
     "text": [
      "/opt/conda/lib/python3.10/site-packages/fastf1/core.py:3183: FutureWarning: pick_driver is deprecated and will be removed in a future release. Use pick_drivers instead.\n",
      "  warnings.warn((\"pick_driver is deprecated and will be removed\"\n"
     ]
    }
   ],
   "source": [
    "## Test data\n",
    "pos_alt= generate_full_laps(session_event.laps.pick_driver('HAM'), 'HAM')\n",
    "### States\n",
    "states_test, zs_test = one_hot_states_multilap(pos_alt[['X','Y']].to_numpy(), circuit_info.corners[['X','Y']].to_numpy(), \n",
    "                                               pos_alt['LapNumber'].to_numpy())\n",
    "### Observations\n",
    "track_norm = scaler.transform(pos_alt[['X','Y']].to_numpy())\n",
    "ys_test = (C @ track_norm.T).T + npr.randn(track_norm.shape[0], 10)*0.01"
   ]
  },
  {
   "cell_type": "markdown",
   "id": "9c341f9a",
   "metadata": {},
   "source": [
    "## GSD"
   ]
  },
  {
   "cell_type": "code",
   "execution_count": 6,
   "id": "0d80ea36",
   "metadata": {},
   "outputs": [
    {
     "name": "stderr",
     "output_type": "stream",
     "text": [
      "ELBO: -53369.6, LR: 0.01000, Tau: 0.990:   5%|▍         | 194/4000 [00:02<00:39, 96.23it/s] /opt/conda/lib/python3.10/site-packages/torch/optim/lr_scheduler.py:240: UserWarning: The epoch parameter in `scheduler.step()` was not necessary and is being deprecated where possible. Please use `scheduler.step()` to step the scheduler. During the deprecation, if epoch is different from None, the closed form is used instead of the new chainable form, where available. Please open an issue if you are unable to replicate your use case: https://github.com/pytorch/pytorch/issues/new/choose.\n",
      "  warnings.warn(EPOCH_DEPRECATION_WARNING, UserWarning)\n",
      "ELBO: 87695.8, LR: 0.00100, Tau: 0.990: 100%|██████████| 4000/4000 [00:41<00:00, 95.49it/s]\n"
     ]
    },
    {
     "name": "stdout",
     "output_type": "stream",
     "text": [
      "Test accuracy for 2 states: [0.974468207750306]\n",
      "State quality for 2 states: 0.3969631236442516\n"
     ]
    },
    {
     "name": "stderr",
     "output_type": "stream",
     "text": [
      "ELBO: -3892.5, LR: 0.01000, Tau: 0.990:   5%|▍         | 190/4000 [00:02<00:40, 94.98it/s] /opt/conda/lib/python3.10/site-packages/torch/optim/lr_scheduler.py:240: UserWarning: The epoch parameter in `scheduler.step()` was not necessary and is being deprecated where possible. Please use `scheduler.step()` to step the scheduler. During the deprecation, if epoch is different from None, the closed form is used instead of the new chainable form, where available. Please open an issue if you are unable to replicate your use case: https://github.com/pytorch/pytorch/issues/new/choose.\n",
      "  warnings.warn(EPOCH_DEPRECATION_WARNING, UserWarning)\n",
      "ELBO: 250150.7, LR: 0.00100, Tau: 0.990: 100%|██████████| 4000/4000 [00:42<00:00, 94.97it/s]\n"
     ]
    },
    {
     "name": "stdout",
     "output_type": "stream",
     "text": [
      "Test accuracy for 3 states: [0.9973776521624671]\n",
      "State quality for 3 states: 0.36969321351100093\n"
     ]
    },
    {
     "name": "stderr",
     "output_type": "stream",
     "text": [
      "ELBO: -9756.4, LR: 0.01000, Tau: 0.990:   5%|▍         | 199/4000 [00:02<00:41, 90.93it/s] /opt/conda/lib/python3.10/site-packages/torch/optim/lr_scheduler.py:240: UserWarning: The epoch parameter in `scheduler.step()` was not necessary and is being deprecated where possible. Please use `scheduler.step()` to step the scheduler. During the deprecation, if epoch is different from None, the closed form is used instead of the new chainable form, where available. Please open an issue if you are unable to replicate your use case: https://github.com/pytorch/pytorch/issues/new/choose.\n",
      "  warnings.warn(EPOCH_DEPRECATION_WARNING, UserWarning)\n",
      "ELBO: 272086.2, LR: 0.00100, Tau: 0.990: 100%|██████████| 4000/4000 [00:43<00:00, 91.23it/s]\n"
     ]
    },
    {
     "name": "stdout",
     "output_type": "stream",
     "text": [
      "Test accuracy for 4 states: [0.9978422869173654]\n",
      "State quality for 4 states: 0.47737837000309885\n"
     ]
    },
    {
     "name": "stderr",
     "output_type": "stream",
     "text": [
      "ELBO: -62814.6, LR: 0.01000, Tau: 0.990:   5%|▍         | 198/4000 [00:02<00:44, 85.34it/s] /opt/conda/lib/python3.10/site-packages/torch/optim/lr_scheduler.py:240: UserWarning: The epoch parameter in `scheduler.step()` was not necessary and is being deprecated where possible. Please use `scheduler.step()` to step the scheduler. During the deprecation, if epoch is different from None, the closed form is used instead of the new chainable form, where available. Please open an issue if you are unable to replicate your use case: https://github.com/pytorch/pytorch/issues/new/choose.\n",
      "  warnings.warn(EPOCH_DEPRECATION_WARNING, UserWarning)\n",
      "ELBO: 180660.9, LR: 0.00100, Tau: 0.990: 100%|██████████| 4000/4000 [00:46<00:00, 85.39it/s]\n"
     ]
    },
    {
     "name": "stdout",
     "output_type": "stream",
     "text": [
      "Test accuracy for 5 states: [0.9828250911813476]\n",
      "State quality for 5 states: 0.551131081499845\n"
     ]
    },
    {
     "name": "stderr",
     "output_type": "stream",
     "text": [
      "ELBO: -11187.1, LR: 0.01000, Tau: 0.990:   5%|▍         | 192/4000 [00:02<00:48, 79.24it/s]/opt/conda/lib/python3.10/site-packages/torch/optim/lr_scheduler.py:240: UserWarning: The epoch parameter in `scheduler.step()` was not necessary and is being deprecated where possible. Please use `scheduler.step()` to step the scheduler. During the deprecation, if epoch is different from None, the closed form is used instead of the new chainable form, where available. Please open an issue if you are unable to replicate your use case: https://github.com/pytorch/pytorch/issues/new/choose.\n",
      "  warnings.warn(EPOCH_DEPRECATION_WARNING, UserWarning)\n",
      "ELBO: 258014.4, LR: 0.00100, Tau: 0.990: 100%|██████████| 4000/4000 [00:50<00:00, 79.86it/s]\n"
     ]
    },
    {
     "name": "stdout",
     "output_type": "stream",
     "text": [
      "Test accuracy for 6 states: [0.997236976672523]\n",
      "State quality for 6 states: 0.44941121784939575\n"
     ]
    },
    {
     "name": "stderr",
     "output_type": "stream",
     "text": [
      "ELBO: -15934.2, LR: 0.01000, Tau: 0.990:   5%|▍         | 192/4000 [00:02<00:50, 75.41it/s]/opt/conda/lib/python3.10/site-packages/torch/optim/lr_scheduler.py:240: UserWarning: The epoch parameter in `scheduler.step()` was not necessary and is being deprecated where possible. Please use `scheduler.step()` to step the scheduler. During the deprecation, if epoch is different from None, the closed form is used instead of the new chainable form, where available. Please open an issue if you are unable to replicate your use case: https://github.com/pytorch/pytorch/issues/new/choose.\n",
      "  warnings.warn(EPOCH_DEPRECATION_WARNING, UserWarning)\n",
      "ELBO: 262046.2, LR: 0.00100, Tau: 0.990: 100%|██████████| 4000/4000 [00:53<00:00, 75.33it/s]\n"
     ]
    },
    {
     "name": "stdout",
     "output_type": "stream",
     "text": [
      "Test accuracy for 7 states: [0.9973067487237909]\n",
      "State quality for 7 states: 0.6353424233033778\n"
     ]
    },
    {
     "name": "stderr",
     "output_type": "stream",
     "text": [
      "ELBO: 19743.5, LR: 0.01000, Tau: 0.990:   5%|▍         | 196/4000 [00:02<00:55, 68.87it/s] /opt/conda/lib/python3.10/site-packages/torch/optim/lr_scheduler.py:240: UserWarning: The epoch parameter in `scheduler.step()` was not necessary and is being deprecated where possible. Please use `scheduler.step()` to step the scheduler. During the deprecation, if epoch is different from None, the closed form is used instead of the new chainable form, where available. Please open an issue if you are unable to replicate your use case: https://github.com/pytorch/pytorch/issues/new/choose.\n",
      "  warnings.warn(EPOCH_DEPRECATION_WARNING, UserWarning)\n",
      "ELBO: 277370.7, LR: 0.00100, Tau: 0.990: 100%|██████████| 4000/4000 [00:57<00:00, 70.01it/s]\n"
     ]
    },
    {
     "name": "stdout",
     "output_type": "stream",
     "text": [
      "Test accuracy for 8 states: [0.9979116112039905]\n",
      "State quality for 8 states: 0.6678803842578246\n"
     ]
    },
    {
     "name": "stderr",
     "output_type": "stream",
     "text": [
      "ELBO: -3939.3, LR: 0.01000, Tau: 0.990:   5%|▍         | 196/4000 [00:03<00:58, 64.68it/s] /opt/conda/lib/python3.10/site-packages/torch/optim/lr_scheduler.py:240: UserWarning: The epoch parameter in `scheduler.step()` was not necessary and is being deprecated where possible. Please use `scheduler.step()` to step the scheduler. During the deprecation, if epoch is different from None, the closed form is used instead of the new chainable form, where available. Please open an issue if you are unable to replicate your use case: https://github.com/pytorch/pytorch/issues/new/choose.\n",
      "  warnings.warn(EPOCH_DEPRECATION_WARNING, UserWarning)\n",
      "ELBO: 263127.0, LR: 0.00100, Tau: 0.990: 100%|██████████| 4000/4000 [01:01<00:00, 64.68it/s]\n"
     ]
    },
    {
     "name": "stdout",
     "output_type": "stream",
     "text": [
      "Test accuracy for 9 states: [0.9977755949539366]\n",
      "State quality for 9 states: 0.648590021691974\n"
     ]
    },
    {
     "name": "stderr",
     "output_type": "stream",
     "text": [
      "ELBO: -36445.7, LR: 0.01000, Tau: 0.990:   5%|▍         | 196/4000 [00:03<01:01, 61.86it/s]/opt/conda/lib/python3.10/site-packages/torch/optim/lr_scheduler.py:240: UserWarning: The epoch parameter in `scheduler.step()` was not necessary and is being deprecated where possible. Please use `scheduler.step()` to step the scheduler. During the deprecation, if epoch is different from None, the closed form is used instead of the new chainable form, where available. Please open an issue if you are unable to replicate your use case: https://github.com/pytorch/pytorch/issues/new/choose.\n",
      "  warnings.warn(EPOCH_DEPRECATION_WARNING, UserWarning)\n",
      "ELBO: 117090.2, LR: 0.00100, Tau: 0.990:  78%|███████▊  | 3108/4000 [00:50<00:14, 61.68it/s]\n"
     ]
    },
    {
     "name": "stdout",
     "output_type": "stream",
     "text": [
      "Early stopping at iteration 3108.\n",
      "Test accuracy for 10 states: [0.9832527951248415]\n",
      "State quality for 10 states: 0.3617136659436009\n"
     ]
    },
    {
     "name": "stderr",
     "output_type": "stream",
     "text": [
      "ELBO: 37558.4, LR: 0.01000, Tau: 0.990:   5%|▍         | 198/4000 [00:03<01:04, 58.95it/s] /opt/conda/lib/python3.10/site-packages/torch/optim/lr_scheduler.py:240: UserWarning: The epoch parameter in `scheduler.step()` was not necessary and is being deprecated where possible. Please use `scheduler.step()` to step the scheduler. During the deprecation, if epoch is different from None, the closed form is used instead of the new chainable form, where available. Please open an issue if you are unable to replicate your use case: https://github.com/pytorch/pytorch/issues/new/choose.\n",
      "  warnings.warn(EPOCH_DEPRECATION_WARNING, UserWarning)\n",
      "ELBO: 276953.2, LR: 0.00100, Tau: 0.990:  95%|█████████▍| 3792/4000 [01:04<00:03, 59.02it/s]\n"
     ]
    },
    {
     "name": "stdout",
     "output_type": "stream",
     "text": [
      "Early stopping at iteration 3792.\n",
      "Test accuracy for 11 states: [0.99786369137434]\n",
      "State quality for 11 states: 0.6935233963433529\n"
     ]
    },
    {
     "name": "stderr",
     "output_type": "stream",
     "text": [
      "ELBO: 3448.0, LR: 0.01000, Tau: 0.990:   5%|▍         | 198/4000 [00:03<01:06, 57.09it/s]  /opt/conda/lib/python3.10/site-packages/torch/optim/lr_scheduler.py:240: UserWarning: The epoch parameter in `scheduler.step()` was not necessary and is being deprecated where possible. Please use `scheduler.step()` to step the scheduler. During the deprecation, if epoch is different from None, the closed form is used instead of the new chainable form, where available. Please open an issue if you are unable to replicate your use case: https://github.com/pytorch/pytorch/issues/new/choose.\n",
      "  warnings.warn(EPOCH_DEPRECATION_WARNING, UserWarning)\n",
      "ELBO: 268941.6, LR: 0.00100, Tau: 0.990: 100%|██████████| 4000/4000 [01:09<00:00, 57.16it/s]\n"
     ]
    },
    {
     "name": "stdout",
     "output_type": "stream",
     "text": [
      "Test accuracy for 12 states: [0.9978129098651488]\n",
      "State quality for 12 states: 0.4804772234273319\n"
     ]
    },
    {
     "name": "stderr",
     "output_type": "stream",
     "text": [
      "ELBO: -7268.3, LR: 0.01000, Tau: 0.990:   5%|▍         | 198/4000 [00:03<01:09, 54.59it/s] /opt/conda/lib/python3.10/site-packages/torch/optim/lr_scheduler.py:240: UserWarning: The epoch parameter in `scheduler.step()` was not necessary and is being deprecated where possible. Please use `scheduler.step()` to step the scheduler. During the deprecation, if epoch is different from None, the closed form is used instead of the new chainable form, where available. Please open an issue if you are unable to replicate your use case: https://github.com/pytorch/pytorch/issues/new/choose.\n",
      "  warnings.warn(EPOCH_DEPRECATION_WARNING, UserWarning)\n",
      "ELBO: 204407.8, LR: 0.00100, Tau: 0.990: 100%|██████████| 4000/4000 [01:13<00:00, 54.22it/s]\n"
     ]
    },
    {
     "name": "stdout",
     "output_type": "stream",
     "text": [
      "Test accuracy for 13 states: [0.9941428029586625]\n",
      "State quality for 13 states: 0.6220948249147815\n"
     ]
    },
    {
     "name": "stderr",
     "output_type": "stream",
     "text": [
      "ELBO: -7224.7, LR: 0.01000, Tau: 0.990:   5%|▍         | 198/4000 [00:03<01:12, 52.37it/s] /opt/conda/lib/python3.10/site-packages/torch/optim/lr_scheduler.py:240: UserWarning: The epoch parameter in `scheduler.step()` was not necessary and is being deprecated where possible. Please use `scheduler.step()` to step the scheduler. During the deprecation, if epoch is different from None, the closed form is used instead of the new chainable form, where available. Please open an issue if you are unable to replicate your use case: https://github.com/pytorch/pytorch/issues/new/choose.\n",
      "  warnings.warn(EPOCH_DEPRECATION_WARNING, UserWarning)\n",
      "ELBO: 259850.8, LR: 0.00100, Tau: 0.990: 100%|██████████| 4000/4000 [01:16<00:00, 52.15it/s]\n"
     ]
    },
    {
     "name": "stdout",
     "output_type": "stream",
     "text": [
      "Test accuracy for 14 states: [0.9975821100678921]\n",
      "State quality for 14 states: 0.5668577626278277\n"
     ]
    },
    {
     "name": "stderr",
     "output_type": "stream",
     "text": [
      "ELBO: 30643.3, LR: 0.01000, Tau: 0.990:   5%|▍         | 194/4000 [00:03<01:16, 49.82it/s] /opt/conda/lib/python3.10/site-packages/torch/optim/lr_scheduler.py:240: UserWarning: The epoch parameter in `scheduler.step()` was not necessary and is being deprecated where possible. Please use `scheduler.step()` to step the scheduler. During the deprecation, if epoch is different from None, the closed form is used instead of the new chainable form, where available. Please open an issue if you are unable to replicate your use case: https://github.com/pytorch/pytorch/issues/new/choose.\n",
      "  warnings.warn(EPOCH_DEPRECATION_WARNING, UserWarning)\n",
      "ELBO: 272246.8, LR: 0.00100, Tau: 0.990:  89%|████████▉ | 3577/4000 [01:11<00:08, 50.05it/s]\n"
     ]
    },
    {
     "name": "stdout",
     "output_type": "stream",
     "text": [
      "Early stopping at iteration 3577.\n",
      "Test accuracy for 15 states: [0.9977406713042987]\n",
      "State quality for 15 states: 0.6645491168267741\n"
     ]
    },
    {
     "name": "stderr",
     "output_type": "stream",
     "text": [
      "ELBO: -37861.4, LR: 0.01000, Tau: 0.990:   5%|▍         | 195/4000 [00:04<01:24, 45.07it/s] /opt/conda/lib/python3.10/site-packages/torch/optim/lr_scheduler.py:240: UserWarning: The epoch parameter in `scheduler.step()` was not necessary and is being deprecated where possible. Please use `scheduler.step()` to step the scheduler. During the deprecation, if epoch is different from None, the closed form is used instead of the new chainable form, where available. Please open an issue if you are unable to replicate your use case: https://github.com/pytorch/pytorch/issues/new/choose.\n",
      "  warnings.warn(EPOCH_DEPRECATION_WARNING, UserWarning)\n",
      "ELBO: 220697.4, LR: 0.00100, Tau: 0.990: 100%|██████████| 4000/4000 [01:29<00:00, 44.91it/s]\n"
     ]
    },
    {
     "name": "stdout",
     "output_type": "stream",
     "text": [
      "Test accuracy for 16 states: [0.9959675368093786]\n",
      "State quality for 16 states: 0.5037960954446855\n"
     ]
    },
    {
     "name": "stderr",
     "output_type": "stream",
     "text": [
      "ELBO: 21865.3, LR: 0.01000, Tau: 0.990:   5%|▍         | 195/4000 [00:04<01:30, 42.18it/s] /opt/conda/lib/python3.10/site-packages/torch/optim/lr_scheduler.py:240: UserWarning: The epoch parameter in `scheduler.step()` was not necessary and is being deprecated where possible. Please use `scheduler.step()` to step the scheduler. During the deprecation, if epoch is different from None, the closed form is used instead of the new chainable form, where available. Please open an issue if you are unable to replicate your use case: https://github.com/pytorch/pytorch/issues/new/choose.\n",
      "  warnings.warn(EPOCH_DEPRECATION_WARNING, UserWarning)\n",
      "ELBO: 275280.5, LR: 0.00100, Tau: 0.990:  78%|███████▊  | 3110/4000 [01:14<00:21, 41.70it/s]"
     ]
    }
   ],
   "source": [
    "gsd = []\n",
    "for seed in range(3):  ## repeat tests\n",
    "    torch.manual_seed(seed)  # Set PyTorch seed\n",
    "    torch.cuda.manual_seed_all(seed)  # Set CUDA seed \n",
    "    accs = []\n",
    "    for K in range(2, 19): ## twiddle states\n",
    "        model = GenerativeSLDS(N=10, K=K, D=2, emission_model=\"gaussian\")\n",
    "        elbos, variational_z = fit_bbvi_schedule(model.to('cuda'), ys = torch.tensor(ys_train).to('cuda').float(), \n",
    "                                             num_iters=4000, learning=True, n_samples=10, base_lr=1e-2, warmup_iters=200, tau_max=0.99)\n",
    "        zs = variational_z.sample_q_z(torch.tensor(ys_train).to('cuda').float().unsqueeze(0).expand(20, -1, -1), 0.99)\n",
    "        zs2 = variational_z.sample_q_z(torch.tensor(ys_test).to('cuda').float().unsqueeze(0).expand(20, -1, -1), 0.99)\n",
    "        pred_ys2=model.smooth(torch.tensor(ys_test).to('cuda').float(), zs2).mean(dim=0).detach().cpu().numpy() # [T, N]\n",
    "        print(f\"Test accuracy for {K} states:\", train_metrics(ys_test, pred_ys2, None, k_max=0))\n",
    "        Z_train = torch.mean(zs, dim=0).detach().cpu().numpy()\n",
    "        Y_train = np.array(zs_train)\n",
    "        Z_test = torch.mean(zs2, dim=0).detach().cpu().numpy()\n",
    "        Y_test = np.array(zs_test)\n",
    "        # Train KNN classifier\n",
    "        knn = KNeighborsClassifier(n_neighbors=10, metric='euclidean')\n",
    "        knn.fit(Z_train, Y_train)\n",
    "        acc = knn.score(Z_test, Y_test)\n",
    "        print(f\"State quality for {K} states:\", acc)\n",
    "        accs.append(acc)  \n",
    "    gsd.append(np.array(accs))\n",
    "np.save('f1GSD.npy', np.array(gsd))"
   ]
  },
  {
   "cell_type": "markdown",
   "id": "3170555b",
   "metadata": {},
   "source": [
    "## rSLDS"
   ]
  },
  {
   "cell_type": "code",
   "execution_count": 6,
   "id": "35685df9",
   "metadata": {},
   "outputs": [],
   "source": [
    "import ssm\n",
    "from ssm.extensions.mp_srslds.transitions_ext import StickyRecurrentOnlyTransitions, StickyRecurrentTransitions"
   ]
  },
  {
   "cell_type": "code",
   "execution_count": 10,
   "id": "b703c497",
   "metadata": {},
   "outputs": [
    {
     "name": "stderr",
     "output_type": "stream",
     "text": [
      "ELBO: 362534.6: 100%|██████████| 100/100 [01:29<00:00,  1.11it/s]\n",
      "ELBO: 353592.9: 100%|██████████| 20/20 [00:13<00:00,  1.48it/s]\n"
     ]
    },
    {
     "name": "stdout",
     "output_type": "stream",
     "text": [
      "Test accuracy for 2 states: [0.9993817874650348]\n",
      "Silhouette score at 2 states: 0.04706478178738587\n",
      "State quality for 2 states: 0.17260613572977998\n"
     ]
    },
    {
     "name": "stderr",
     "output_type": "stream",
     "text": [
      "ELBO: 368538.0: 100%|██████████| 100/100 [01:44<00:00,  1.04s/it]\n",
      "ELBO: 358742.3: 100%|██████████| 20/20 [00:15<00:00,  1.32it/s]\n"
     ]
    },
    {
     "name": "stdout",
     "output_type": "stream",
     "text": [
      "Test accuracy for 3 states: [0.9993799412354623]\n",
      "Silhouette score at 3 states: 0.024683241748336693\n",
      "State quality for 3 states: 0.1789587852494577\n"
     ]
    },
    {
     "name": "stderr",
     "output_type": "stream",
     "text": [
      "ELBO: 372255.2: 100%|██████████| 100/100 [01:57<00:00,  1.18s/it]\n",
      "ELBO: 362553.0: 100%|██████████| 20/20 [00:16<00:00,  1.18it/s]\n"
     ]
    },
    {
     "name": "stdout",
     "output_type": "stream",
     "text": [
      "Test accuracy for 4 states: [0.9993791102001859]\n",
      "Silhouette score at 4 states: -0.01676337406826936\n",
      "State quality for 4 states: 0.24387976448713977\n"
     ]
    },
    {
     "name": "stderr",
     "output_type": "stream",
     "text": [
      "ELBO: 371867.8: 100%|██████████| 100/100 [02:17<00:00,  1.37s/it]\n",
      "ELBO: 362008.5: 100%|██████████| 20/20 [00:19<00:00,  1.03it/s]\n"
     ]
    },
    {
     "name": "stdout",
     "output_type": "stream",
     "text": [
      "Test accuracy for 5 states: [0.9993785067615193]\n",
      "Silhouette score at 5 states: -0.05986335262567291\n",
      "State quality for 5 states: 0.21444065695692593\n"
     ]
    },
    {
     "name": "stderr",
     "output_type": "stream",
     "text": [
      "ELBO: 374539.1: 100%|██████████| 100/100 [02:38<00:00,  1.59s/it]\n",
      "ELBO: 364614.5: 100%|██████████| 20/20 [00:21<00:00,  1.08s/it]\n"
     ]
    },
    {
     "name": "stdout",
     "output_type": "stream",
     "text": [
      "Test accuracy for 6 states: [0.9993769634728478]\n",
      "Silhouette score at 6 states: -0.034838222557713974\n",
      "State quality for 6 states: 0.19460799504183451\n"
     ]
    },
    {
     "name": "stderr",
     "output_type": "stream",
     "text": [
      "ELBO: 375643.7: 100%|██████████| 100/100 [03:03<00:00,  1.83s/it]\n",
      "ELBO: 366154.2: 100%|██████████| 20/20 [00:25<00:00,  1.25s/it]\n"
     ]
    },
    {
     "name": "stdout",
     "output_type": "stream",
     "text": [
      "Test accuracy for 7 states: [0.9993767664782279]\n",
      "Silhouette score at 7 states: -0.05391351620067358\n",
      "State quality for 7 states: 0.17128912302448093\n"
     ]
    },
    {
     "name": "stderr",
     "output_type": "stream",
     "text": [
      "ELBO: 375536.8: 100%|██████████| 100/100 [03:29<00:00,  2.09s/it]\n",
      "ELBO: 365698.6: 100%|██████████| 20/20 [00:28<00:00,  1.41s/it]\n"
     ]
    },
    {
     "name": "stdout",
     "output_type": "stream",
     "text": [
      "Test accuracy for 8 states: [0.9993747534960642]\n",
      "Silhouette score at 8 states: -0.09029590792546859\n",
      "State quality for 8 states: 0.26510691044313606\n"
     ]
    },
    {
     "name": "stderr",
     "output_type": "stream",
     "text": [
      "ELBO: 376291.1: 100%|██████████| 100/100 [03:55<00:00,  2.36s/it]\n",
      "ELBO: 366348.0: 100%|██████████| 20/20 [00:31<00:00,  1.57s/it]\n"
     ]
    },
    {
     "name": "stdout",
     "output_type": "stream",
     "text": [
      "Test accuracy for 9 states: [0.9993764338045571]\n",
      "Silhouette score at 9 states: -0.07892296361838727\n",
      "State quality for 9 states: 0.23055469476293772\n"
     ]
    },
    {
     "name": "stderr",
     "output_type": "stream",
     "text": [
      "ELBO: 376573.5: 100%|██████████| 100/100 [04:35<00:00,  2.76s/it]\n",
      "ELBO: 366773.5: 100%|██████████| 20/20 [00:35<00:00,  1.75s/it]\n"
     ]
    },
    {
     "name": "stdout",
     "output_type": "stream",
     "text": [
      "Test accuracy for 10 states: [0.999374167377943]\n",
      "Silhouette score at 10 states: -0.0834192150715985\n",
      "State quality for 10 states: 0.28370003098853425\n"
     ]
    },
    {
     "name": "stderr",
     "output_type": "stream",
     "text": [
      "ELBO: 378381.5: 100%|██████████| 100/100 [05:17<00:00,  3.17s/it]\n",
      "ELBO: 368112.1: 100%|██████████| 20/20 [00:40<00:00,  2.02s/it]\n"
     ]
    },
    {
     "name": "stdout",
     "output_type": "stream",
     "text": [
      "Test accuracy for 11 states: [0.9993746398959393]\n",
      "Silhouette score at 11 states: -0.14598712759597846\n",
      "State quality for 11 states: 0.23566780291292222\n"
     ]
    },
    {
     "name": "stderr",
     "output_type": "stream",
     "text": [
      "ELBO: 379264.9: 100%|██████████| 100/100 [06:21<00:00,  3.81s/it]\n",
      "ELBO: 369241.3: 100%|██████████| 20/20 [00:44<00:00,  2.23s/it]\n"
     ]
    },
    {
     "name": "stdout",
     "output_type": "stream",
     "text": [
      "Test accuracy for 12 states: [0.9993736944989837]\n",
      "Silhouette score at 12 states: -0.11610846421702982\n",
      "State quality for 12 states: 0.4828013634955067\n"
     ]
    },
    {
     "name": "stderr",
     "output_type": "stream",
     "text": [
      "ELBO: 380541.7: 100%|██████████| 100/100 [07:43<00:00,  4.63s/it]\n",
      "ELBO: 370076.1: 100%|██████████| 20/20 [00:53<00:00,  2.69s/it]\n"
     ]
    },
    {
     "name": "stdout",
     "output_type": "stream",
     "text": [
      "Test accuracy for 13 states: [0.9993730270245894]\n",
      "Silhouette score at 13 states: -0.0909277210949511\n",
      "State quality for 13 states: 0.27091726061357296\n"
     ]
    },
    {
     "name": "stderr",
     "output_type": "stream",
     "text": [
      "ELBO: 380631.9: 100%|██████████| 100/100 [08:18<00:00,  4.99s/it]\n",
      "ELBO: 370413.4: 100%|██████████| 20/20 [01:00<00:00,  3.02s/it]\n"
     ]
    },
    {
     "name": "stdout",
     "output_type": "stream",
     "text": [
      "Test accuracy for 14 states: [0.9993731330249803]\n",
      "Silhouette score at 14 states: -0.10189277749842464\n",
      "State quality for 14 states: 0.3804617291602107\n"
     ]
    },
    {
     "name": "stderr",
     "output_type": "stream",
     "text": [
      "ELBO: 380440.8: 100%|██████████| 100/100 [09:15<00:00,  5.55s/it]\n",
      "ELBO: 370048.6: 100%|██████████| 20/20 [01:06<00:00,  3.31s/it]\n"
     ]
    },
    {
     "name": "stdout",
     "output_type": "stream",
     "text": [
      "Test accuracy for 15 states: [0.9993709412897083]\n",
      "Silhouette score at 15 states: -0.15744508956310513\n",
      "State quality for 15 states: 0.2993492407809111\n"
     ]
    },
    {
     "name": "stderr",
     "output_type": "stream",
     "text": [
      "ELBO: 381308.5: 100%|██████████| 100/100 [11:16<00:00,  6.76s/it]\n",
      "ELBO: 370936.6: 100%|██████████| 20/20 [01:14<00:00,  3.74s/it]\n"
     ]
    },
    {
     "name": "stdout",
     "output_type": "stream",
     "text": [
      "Test accuracy for 16 states: [0.9993725251060143]\n",
      "Silhouette score at 16 states: -0.122482317888844\n",
      "State quality for 16 states: 0.5464828013634955\n"
     ]
    },
    {
     "name": "stderr",
     "output_type": "stream",
     "text": [
      "ELBO: 380791.9: 100%|██████████| 100/100 [11:37<00:00,  6.98s/it]\n",
      "ELBO: 370234.7: 100%|██████████| 20/20 [01:19<00:00,  3.99s/it]\n"
     ]
    },
    {
     "name": "stdout",
     "output_type": "stream",
     "text": [
      "Test accuracy for 17 states: [0.9993711535107475]\n",
      "Silhouette score at 17 states: -0.1261452243782836\n",
      "State quality for 17 states: 0.4404245429191199\n"
     ]
    },
    {
     "name": "stderr",
     "output_type": "stream",
     "text": [
      "ELBO: 381812.4: 100%|██████████| 100/100 [15:13<00:00,  9.13s/it]\n",
      "ELBO: 371066.3: 100%|██████████| 20/20 [01:26<00:00,  4.34s/it]\n"
     ]
    },
    {
     "name": "stdout",
     "output_type": "stream",
     "text": [
      "Test accuracy for 18 states: [0.9993720563386097]\n",
      "Silhouette score at 18 states: -0.10210011434565246\n",
      "State quality for 18 states: 0.4786953827083979\n"
     ]
    },
    {
     "name": "stderr",
     "output_type": "stream",
     "text": [
      "ELBO: 365333.8: 100%|██████████| 100/100 [01:30<00:00,  1.10it/s]\n",
      "ELBO: 355877.1: 100%|██████████| 20/20 [00:13<00:00,  1.49it/s]\n"
     ]
    },
    {
     "name": "stdout",
     "output_type": "stream",
     "text": [
      "Test accuracy for 2 states: [0.9993813834864043]\n",
      "Silhouette score at 2 states: 0.07020163151144407\n",
      "State quality for 2 states: 0.06523086458010537\n"
     ]
    },
    {
     "name": "stderr",
     "output_type": "stream",
     "text": [
      "ELBO: 370128.5: 100%|██████████| 100/100 [01:43<00:00,  1.03s/it]\n",
      "ELBO: 360856.3: 100%|██████████| 20/20 [00:14<00:00,  1.33it/s]\n"
     ]
    },
    {
     "name": "stdout",
     "output_type": "stream",
     "text": [
      "Test accuracy for 3 states: [0.9993798698938525]\n",
      "Silhouette score at 3 states: 0.010108391554201858\n",
      "State quality for 3 states: 0.1433219708707778\n"
     ]
    },
    {
     "name": "stderr",
     "output_type": "stream",
     "text": [
      "ELBO: 371910.8: 100%|██████████| 100/100 [01:57<00:00,  1.18s/it]\n",
      "ELBO: 362439.7: 100%|██████████| 20/20 [00:17<00:00,  1.16it/s]\n"
     ]
    },
    {
     "name": "stdout",
     "output_type": "stream",
     "text": [
      "Test accuracy for 4 states: [0.9993789178208417]\n",
      "Silhouette score at 4 states: -0.009159440426635435\n",
      "State quality for 4 states: 0.1720638363805392\n"
     ]
    },
    {
     "name": "stderr",
     "output_type": "stream",
     "text": [
      "ELBO: 371779.7: 100%|██████████| 100/100 [02:15<00:00,  1.36s/it]\n",
      "ELBO: 361808.5: 100%|██████████| 20/20 [00:19<00:00,  1.04it/s]\n"
     ]
    },
    {
     "name": "stdout",
     "output_type": "stream",
     "text": [
      "Test accuracy for 5 states: [0.999378463896929]\n",
      "Silhouette score at 5 states: -0.060462803656817214\n",
      "State quality for 5 states: 0.2193988224356988\n"
     ]
    },
    {
     "name": "stderr",
     "output_type": "stream",
     "text": [
      "ELBO: 371378.4: 100%|██████████| 100/100 [02:34<00:00,  1.54s/it]\n",
      "ELBO: 361578.8: 100%|██████████| 20/20 [00:21<00:00,  1.08s/it]\n"
     ]
    },
    {
     "name": "stdout",
     "output_type": "stream",
     "text": [
      "Test accuracy for 6 states: [0.9993776692088783]\n",
      "Silhouette score at 6 states: -0.09590691040576556\n",
      "State quality for 6 states: 0.21033467616981716\n"
     ]
    },
    {
     "name": "stderr",
     "output_type": "stream",
     "text": [
      "ELBO: 374731.2: 100%|██████████| 100/100 [03:02<00:00,  1.82s/it]\n",
      "ELBO: 364586.9: 100%|██████████| 20/20 [00:25<00:00,  1.26s/it]\n"
     ]
    },
    {
     "name": "stdout",
     "output_type": "stream",
     "text": [
      "Test accuracy for 7 states: [0.9993754275414581]\n",
      "Silhouette score at 7 states: -0.07911060802119362\n",
      "State quality for 7 states: 0.26069104431360396\n"
     ]
    },
    {
     "name": "stderr",
     "output_type": "stream",
     "text": [
      "ELBO: 376718.9: 100%|██████████| 100/100 [03:34<00:00,  2.14s/it]\n",
      "ELBO: 366577.4: 100%|██████████| 20/20 [00:28<00:00,  1.42s/it]\n"
     ]
    },
    {
     "name": "stdout",
     "output_type": "stream",
     "text": [
      "Test accuracy for 8 states: [0.9993750109117542]\n",
      "Silhouette score at 8 states: -0.14794362108083228\n",
      "State quality for 8 states: 0.21358847226526184\n"
     ]
    },
    {
     "name": "stderr",
     "output_type": "stream",
     "text": [
      "ELBO: 376585.5: 100%|██████████| 100/100 [03:58<00:00,  2.39s/it]\n",
      "ELBO: 366497.6: 100%|██████████| 20/20 [00:33<00:00,  1.65s/it]\n"
     ]
    },
    {
     "name": "stdout",
     "output_type": "stream",
     "text": [
      "Test accuracy for 9 states: [0.9993754959689438]\n",
      "Silhouette score at 9 states: -0.09584790016588293\n",
      "State quality for 9 states: 0.41439417415556246\n"
     ]
    },
    {
     "name": "stderr",
     "output_type": "stream",
     "text": [
      "ELBO: 376391.5: 100%|██████████| 100/100 [04:46<00:00,  2.86s/it]\n",
      "ELBO: 366717.0: 100%|██████████| 20/20 [00:35<00:00,  1.80s/it]\n"
     ]
    },
    {
     "name": "stdout",
     "output_type": "stream",
     "text": [
      "Test accuracy for 10 states: [0.9993752361262912]\n",
      "Silhouette score at 10 states: -0.11454486235643967\n",
      "State quality for 10 states: 0.399907034397273\n"
     ]
    },
    {
     "name": "stderr",
     "output_type": "stream",
     "text": [
      "ELBO: 379816.8:  37%|███▋      | 37/100 [02:35<03:07,  2.98s/it]"
     ]
    }
   ],
   "source": [
    "slds_acc = []\n",
    "slds_sil = []\n",
    "for seed in range(3):  ## repeat tests\n",
    "    torch.manual_seed(seed)  # Set PyTorch seed\n",
    "    torch.cuda.manual_seed_all(seed)  # Set CUDA seed \n",
    "    accs2 = []\n",
    "    sils = []\n",
    "    for K in range(2, 19):\n",
    "        sro_trans=StickyRecurrentOnlyTransitions(K=K,D=2) \n",
    "        rslds = ssm.SLDS(N=10, K=K, D=2,\n",
    "                 transitions=sro_trans,\n",
    "                 dynamics=\"diagonal_gaussian\",\n",
    "                 emissions=\"gaussian\",\n",
    "                 single_subspace=True)\n",
    "        rslds.initialize(ys_train)\n",
    "        q_elbos_lem, q_lem = rslds.fit(ys_train, method=\"laplace_em\", \n",
    "                                   variational_posterior=\"structured_meanfield\",\n",
    "                                   initialize=False, num_iters=100, alpha=0.0)\n",
    "        q_lem_x = q_lem.mean_continuous_states[0]\n",
    "        q_lem_z = rslds.most_likely_states(q_lem_x, ys_train)\n",
    "        # plot_trajectory(q_lem_z, q_lem_x)\n",
    "        elbos, q_lem2 = rslds.approximate_posterior(ys_test,\n",
    "                                        method=\"laplace_em\",\n",
    "                                        variational_posterior=\"structured_meanfield\",\n",
    "                                        num_iters=20)\n",
    "        q_lem_x2 = q_lem2.mean_continuous_states[0]\n",
    "        q_lem_z2 = rslds.most_likely_states(q_lem_x2, ys_test)\n",
    "        sil = silhouette_score(q_lem_x2, q_lem_z2)\n",
    "        pred_ys2=rslds.smooth(q_lem_x2, ys_test)\n",
    "        print(f\"Test accuracy for {K} states:\", train_metrics(ys_test, pred_ys2, None, k_max=0))\n",
    "        print(f\"Silhouette score at {K} states:\", sil)\n",
    "        Z_train = np.eye(K)[q_lem_z]\n",
    "        Y_train = np.array(zs_train)\n",
    "        Z_test = np.eye(K)[q_lem_z2]\n",
    "        Y_test = np.array(zs_test)\n",
    "        # Train KNN classifier\n",
    "        knn = KNeighborsClassifier(n_neighbors=10, metric='euclidean')\n",
    "        knn.fit(Z_train, Y_train)\n",
    "        acc = knn.score(Z_test, Y_test)\n",
    "        print(f\"State quality for {K} states:\", acc)\n",
    "        accs2.append(acc)\n",
    "        sils.append(sil)\n",
    "    slds_acc.append(np.array(accs2))\n",
    "    slds_sil.append(np.array(sils))\n",
    "np.save('f1SLDS.npy', np.array(slds_acc))    \n",
    "np.save('f1SLDS_sil.npy', np.array(slds_sil))   "
   ]
  },
  {
   "cell_type": "code",
   "execution_count": null,
   "id": "ed9b90b6",
   "metadata": {},
   "outputs": [],
   "source": []
  }
 ],
 "metadata": {
  "kernelspec": {
   "display_name": "Python 3 (ipykernel)",
   "language": "python",
   "name": "python3"
  },
  "language_info": {
   "codemirror_mode": {
    "name": "ipython",
    "version": 3
   },
   "file_extension": ".py",
   "mimetype": "text/x-python",
   "name": "python",
   "nbconvert_exporter": "python",
   "pygments_lexer": "ipython3",
   "version": "3.10.18"
  }
 },
 "nbformat": 4,
 "nbformat_minor": 5
}
